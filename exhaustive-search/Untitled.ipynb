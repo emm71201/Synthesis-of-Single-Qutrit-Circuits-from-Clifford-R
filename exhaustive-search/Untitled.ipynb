{
 "cells": [
  {
   "cell_type": "code",
   "execution_count": 1,
   "id": "17b93d96",
   "metadata": {},
   "outputs": [],
   "source": [
    "with open(\"log1\", \"r\") as f:\n",
    "    log1 = f.readlines()"
   ]
  },
  {
   "cell_type": "code",
   "execution_count": 2,
   "id": "a499cab6",
   "metadata": {},
   "outputs": [],
   "source": [
    "with open(\"log2\", \"r\") as g:\n",
    "    log2 = g.readlines()"
   ]
  },
  {
   "cell_type": "code",
   "execution_count": 3,
   "id": "7e3405e4",
   "metadata": {},
   "outputs": [],
   "source": [
    "for item in log2:\n",
    "    if item not in log1:\n",
    "        print(item)"
   ]
  },
  {
   "cell_type": "code",
   "execution_count": 4,
   "id": "4c32599e",
   "metadata": {},
   "outputs": [
    {
     "data": {
      "text/plain": [
       "1369"
      ]
     },
     "execution_count": 4,
     "metadata": {},
     "output_type": "execute_result"
    }
   ],
   "source": [
    "len(log1)"
   ]
  },
  {
   "cell_type": "code",
   "execution_count": 5,
   "id": "a85f8f08",
   "metadata": {},
   "outputs": [
    {
     "data": {
      "text/plain": [
       "917"
      ]
     },
     "execution_count": 5,
     "metadata": {},
     "output_type": "execute_result"
    }
   ],
   "source": [
    "len(log2)"
   ]
  },
  {
   "cell_type": "code",
   "execution_count": null,
   "id": "64ce4809",
   "metadata": {},
   "outputs": [],
   "source": []
  }
 ],
 "metadata": {
  "kernelspec": {
   "display_name": "Python 3 (ipykernel)",
   "language": "python",
   "name": "python3"
  },
  "language_info": {
   "codemirror_mode": {
    "name": "ipython",
    "version": 3
   },
   "file_extension": ".py",
   "mimetype": "text/x-python",
   "name": "python",
   "nbconvert_exporter": "python",
   "pygments_lexer": "ipython3",
   "version": "3.10.7"
  }
 },
 "nbformat": 4,
 "nbformat_minor": 5
}
